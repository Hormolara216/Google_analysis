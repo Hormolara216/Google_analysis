{
  "nbformat": 4,
  "nbformat_minor": 0,
  "metadata": {
    "colab": {
      "provenance": []
    },
    "kernelspec": {
      "name": "python3",
      "display_name": "Python 3"
    },
    "language_info": {
      "name": "python"
    }
  },
  "cells": [
    {
      "cell_type": "code",
      "execution_count": 1,
      "metadata": {
        "id": "l_uTLLgIjx40"
      },
      "outputs": [],
      "source": [
        "import pandas as pd\n",
        "import matplotlib.pyplot as plt\n"
      ]
    },
    {
      "cell_type": "code",
      "source": [
        "#import google analytics data\n",
        "gsc_page_data=pd.read_csv('/ga_gsc_data.csv')\n",
        "ppc_data=pd.read_csv('/ppc_data.csv')\n",
        "facebok_data=pd.read_csv('/facebook-data-ads.csv', parse_dates=['Reporting starts','Reporting ends'])"
      ],
      "metadata": {
        "id": "Nt7ei-0Llrb_"
      },
      "execution_count": 35,
      "outputs": []
    },
    {
      "cell_type": "code",
      "source": [
        "gsc_page_data.head()"
      ],
      "metadata": {
        "colab": {
          "base_uri": "https://localhost:8080/",
          "height": 374
        },
        "id": "5SOCXrc1l7CB",
        "outputId": "d8b43a24-deeb-4a98-8ba4-340a11761840"
      },
      "execution_count": 17,
      "outputs": [
        {
          "output_type": "execute_result",
          "data": {
            "text/plain": [
              "   Unnamed: 0                                               Page  Clicks  \\\n",
              "0           0                            https://miratrix.co.uk/     371   \n",
              "1           1       https://miratrix.co.uk/app-marketing-agency/      80   \n",
              "2           2  https://miratrix.co.uk/mobile-app-competitor-a...      16   \n",
              "3           3  https://miratrix.co.uk/blippar-the-message-isn...      11   \n",
              "4           4              https://miratrix.co.uk/author/nduddy/      10   \n",
              "\n",
              "   Impressions    CTR  Position          Avg. Time on Page  Bounce Rate  \\\n",
              "0       100673  0.37%     42.59  0 days 00:01:43.666666666    47.296667   \n",
              "1        30824  0.26%     26.84  0 days 00:01:45.333333333    64.436667   \n",
              "2         1458   1.1%     30.64  0 days 00:04:06.000000000    53.335000   \n",
              "3          517  2.13%     36.05  0 days 00:00:22.333333333    58.170000   \n",
              "4          140  7.14%      5.61  0 days 00:02:52.000000000    22.223333   \n",
              "\n",
              "        Exit  Pageviews  Unique Pageviews  \n",
              "0  54.286667       1396              1095  \n",
              "1  60.913333        210               181  \n",
              "2  89.475000         30                26  \n",
              "3  78.333333         27                21  \n",
              "4  38.890000         15                13  "
            ],
            "text/html": [
              "\n",
              "  <div id=\"df-0d371f32-bc84-4805-8b98-c0137416c220\">\n",
              "    <div class=\"colab-df-container\">\n",
              "      <div>\n",
              "<style scoped>\n",
              "    .dataframe tbody tr th:only-of-type {\n",
              "        vertical-align: middle;\n",
              "    }\n",
              "\n",
              "    .dataframe tbody tr th {\n",
              "        vertical-align: top;\n",
              "    }\n",
              "\n",
              "    .dataframe thead th {\n",
              "        text-align: right;\n",
              "    }\n",
              "</style>\n",
              "<table border=\"1\" class=\"dataframe\">\n",
              "  <thead>\n",
              "    <tr style=\"text-align: right;\">\n",
              "      <th></th>\n",
              "      <th>Unnamed: 0</th>\n",
              "      <th>Page</th>\n",
              "      <th>Clicks</th>\n",
              "      <th>Impressions</th>\n",
              "      <th>CTR</th>\n",
              "      <th>Position</th>\n",
              "      <th>Avg. Time on Page</th>\n",
              "      <th>Bounce Rate</th>\n",
              "      <th>Exit</th>\n",
              "      <th>Pageviews</th>\n",
              "      <th>Unique Pageviews</th>\n",
              "    </tr>\n",
              "  </thead>\n",
              "  <tbody>\n",
              "    <tr>\n",
              "      <th>0</th>\n",
              "      <td>0</td>\n",
              "      <td>https://miratrix.co.uk/</td>\n",
              "      <td>371</td>\n",
              "      <td>100673</td>\n",
              "      <td>0.37%</td>\n",
              "      <td>42.59</td>\n",
              "      <td>0 days 00:01:43.666666666</td>\n",
              "      <td>47.296667</td>\n",
              "      <td>54.286667</td>\n",
              "      <td>1396</td>\n",
              "      <td>1095</td>\n",
              "    </tr>\n",
              "    <tr>\n",
              "      <th>1</th>\n",
              "      <td>1</td>\n",
              "      <td>https://miratrix.co.uk/app-marketing-agency/</td>\n",
              "      <td>80</td>\n",
              "      <td>30824</td>\n",
              "      <td>0.26%</td>\n",
              "      <td>26.84</td>\n",
              "      <td>0 days 00:01:45.333333333</td>\n",
              "      <td>64.436667</td>\n",
              "      <td>60.913333</td>\n",
              "      <td>210</td>\n",
              "      <td>181</td>\n",
              "    </tr>\n",
              "    <tr>\n",
              "      <th>2</th>\n",
              "      <td>2</td>\n",
              "      <td>https://miratrix.co.uk/mobile-app-competitor-a...</td>\n",
              "      <td>16</td>\n",
              "      <td>1458</td>\n",
              "      <td>1.1%</td>\n",
              "      <td>30.64</td>\n",
              "      <td>0 days 00:04:06.000000000</td>\n",
              "      <td>53.335000</td>\n",
              "      <td>89.475000</td>\n",
              "      <td>30</td>\n",
              "      <td>26</td>\n",
              "    </tr>\n",
              "    <tr>\n",
              "      <th>3</th>\n",
              "      <td>3</td>\n",
              "      <td>https://miratrix.co.uk/blippar-the-message-isn...</td>\n",
              "      <td>11</td>\n",
              "      <td>517</td>\n",
              "      <td>2.13%</td>\n",
              "      <td>36.05</td>\n",
              "      <td>0 days 00:00:22.333333333</td>\n",
              "      <td>58.170000</td>\n",
              "      <td>78.333333</td>\n",
              "      <td>27</td>\n",
              "      <td>21</td>\n",
              "    </tr>\n",
              "    <tr>\n",
              "      <th>4</th>\n",
              "      <td>4</td>\n",
              "      <td>https://miratrix.co.uk/author/nduddy/</td>\n",
              "      <td>10</td>\n",
              "      <td>140</td>\n",
              "      <td>7.14%</td>\n",
              "      <td>5.61</td>\n",
              "      <td>0 days 00:02:52.000000000</td>\n",
              "      <td>22.223333</td>\n",
              "      <td>38.890000</td>\n",
              "      <td>15</td>\n",
              "      <td>13</td>\n",
              "    </tr>\n",
              "  </tbody>\n",
              "</table>\n",
              "</div>\n",
              "      <button class=\"colab-df-convert\" onclick=\"convertToInteractive('df-0d371f32-bc84-4805-8b98-c0137416c220')\"\n",
              "              title=\"Convert this dataframe to an interactive table.\"\n",
              "              style=\"display:none;\">\n",
              "        \n",
              "  <svg xmlns=\"http://www.w3.org/2000/svg\" height=\"24px\"viewBox=\"0 0 24 24\"\n",
              "       width=\"24px\">\n",
              "    <path d=\"M0 0h24v24H0V0z\" fill=\"none\"/>\n",
              "    <path d=\"M18.56 5.44l.94 2.06.94-2.06 2.06-.94-2.06-.94-.94-2.06-.94 2.06-2.06.94zm-11 1L8.5 8.5l.94-2.06 2.06-.94-2.06-.94L8.5 2.5l-.94 2.06-2.06.94zm10 10l.94 2.06.94-2.06 2.06-.94-2.06-.94-.94-2.06-.94 2.06-2.06.94z\"/><path d=\"M17.41 7.96l-1.37-1.37c-.4-.4-.92-.59-1.43-.59-.52 0-1.04.2-1.43.59L10.3 9.45l-7.72 7.72c-.78.78-.78 2.05 0 2.83L4 21.41c.39.39.9.59 1.41.59.51 0 1.02-.2 1.41-.59l7.78-7.78 2.81-2.81c.8-.78.8-2.07 0-2.86zM5.41 20L4 18.59l7.72-7.72 1.47 1.35L5.41 20z\"/>\n",
              "  </svg>\n",
              "      </button>\n",
              "      \n",
              "  <style>\n",
              "    .colab-df-container {\n",
              "      display:flex;\n",
              "      flex-wrap:wrap;\n",
              "      gap: 12px;\n",
              "    }\n",
              "\n",
              "    .colab-df-convert {\n",
              "      background-color: #E8F0FE;\n",
              "      border: none;\n",
              "      border-radius: 50%;\n",
              "      cursor: pointer;\n",
              "      display: none;\n",
              "      fill: #1967D2;\n",
              "      height: 32px;\n",
              "      padding: 0 0 0 0;\n",
              "      width: 32px;\n",
              "    }\n",
              "\n",
              "    .colab-df-convert:hover {\n",
              "      background-color: #E2EBFA;\n",
              "      box-shadow: 0px 1px 2px rgba(60, 64, 67, 0.3), 0px 1px 3px 1px rgba(60, 64, 67, 0.15);\n",
              "      fill: #174EA6;\n",
              "    }\n",
              "\n",
              "    [theme=dark] .colab-df-convert {\n",
              "      background-color: #3B4455;\n",
              "      fill: #D2E3FC;\n",
              "    }\n",
              "\n",
              "    [theme=dark] .colab-df-convert:hover {\n",
              "      background-color: #434B5C;\n",
              "      box-shadow: 0px 1px 3px 1px rgba(0, 0, 0, 0.15);\n",
              "      filter: drop-shadow(0px 1px 2px rgba(0, 0, 0, 0.3));\n",
              "      fill: #FFFFFF;\n",
              "    }\n",
              "  </style>\n",
              "\n",
              "      <script>\n",
              "        const buttonEl =\n",
              "          document.querySelector('#df-0d371f32-bc84-4805-8b98-c0137416c220 button.colab-df-convert');\n",
              "        buttonEl.style.display =\n",
              "          google.colab.kernel.accessAllowed ? 'block' : 'none';\n",
              "\n",
              "        async function convertToInteractive(key) {\n",
              "          const element = document.querySelector('#df-0d371f32-bc84-4805-8b98-c0137416c220');\n",
              "          const dataTable =\n",
              "            await google.colab.kernel.invokeFunction('convertToInteractive',\n",
              "                                                     [key], {});\n",
              "          if (!dataTable) return;\n",
              "\n",
              "          const docLinkHtml = 'Like what you see? Visit the ' +\n",
              "            '<a target=\"_blank\" href=https://colab.research.google.com/notebooks/data_table.ipynb>data table notebook</a>'\n",
              "            + ' to learn more about interactive tables.';\n",
              "          element.innerHTML = '';\n",
              "          dataTable['output_type'] = 'display_data';\n",
              "          await google.colab.output.renderOutput(dataTable, element);\n",
              "          const docLink = document.createElement('div');\n",
              "          docLink.innerHTML = docLinkHtml;\n",
              "          element.appendChild(docLink);\n",
              "        }\n",
              "      </script>\n",
              "    </div>\n",
              "  </div>\n",
              "  "
            ]
          },
          "metadata": {},
          "execution_count": 17
        }
      ]
    },
    {
      "cell_type": "code",
      "source": [
        "#visualize page with barchat by pages\n",
        "gsc_page_data[:5].sort_values(by='Pageviews', ascending=False).plot.bar(figsize=(15,5))"
      ],
      "metadata": {
        "colab": {
          "base_uri": "https://localhost:8080/",
          "height": 321
        },
        "id": "1DAKG_0Em6jD",
        "outputId": "a7ee0e5e-a816-4966-91ed-0e9f308d9310"
      },
      "execution_count": 18,
      "outputs": [
        {
          "output_type": "execute_result",
          "data": {
            "text/plain": [
              "<matplotlib.axes._subplots.AxesSubplot at 0x7f9adb5abfd0>"
            ]
          },
          "metadata": {},
          "execution_count": 18
        },
        {
          "output_type": "display_data",
          "data": {
            "text/plain": [
              "<Figure size 1080x360 with 1 Axes>"
            ],
            "image/png": "[encoded data removed]"
          },
          "metadata": {
            "needs_background": "light"
          }
        }
      ]
    },
    {
      "cell_type": "code",
      "source": [
        "#secondary axis with Impressions\n",
        "gsc_page_data[:10].plot.bar(figsize=(10,5),secondary_y='Impressions', stacked=True)"
      ],
      "metadata": {
        "colab": {
          "base_uri": "https://localhost:8080/",
          "height": 333
        },
        "id": "XFS_oIuzqkPf",
        "outputId": "dc47bbbc-a95d-42f8-a4cc-422c76cf34d7"
      },
      "execution_count": 19,
      "outputs": [
        {
          "output_type": "execute_result",
          "data": {
            "text/plain": [
              "<matplotlib.axes._subplots.AxesSubplot at 0x7f9adc08b150>"
            ]
          },
          "metadata": {},
          "execution_count": 19
        },
        {
          "output_type": "display_data",
          "data": {
            "text/plain": [
              "<Figure size 720x360 with 2 Axes>"
            ],
            "image/png": "[encoded data removed]"
          },
          "metadata": {
            "needs_background": "light"
          }
        }
      ]
    },
    {
      "cell_type": "code",
      "source": [
        "#plot to increase font size\n",
        "gsc_page_data[['Position','Bounce Rate']][:10].plot.bar(figsize=(10,5),fontsize=15)"
      ],
      "metadata": {
        "colab": {
          "base_uri": "https://localhost:8080/",
          "height": 336
        },
        "id": "4Vj8lPuhrRxM",
        "outputId": "1cc23e5d-ec42-4ceb-d2a3-0792096b615c"
      },
      "execution_count": 22,
      "outputs": [
        {
          "output_type": "execute_result",
          "data": {
            "text/plain": [
              "<matplotlib.axes._subplots.AxesSubplot at 0x7f9adb22d650>"
            ]
          },
          "metadata": {},
          "execution_count": 22
        },
        {
          "output_type": "display_data",
          "data": {
            "text/plain": [
              "<Figure size 720x360 with 1 Axes>"
            ],
            "image/png": "[encoded data removed]"
          },
          "metadata": {
            "needs_background": "light"
          }
        }
      ]
    },
    {
      "cell_type": "code",
      "source": [
        "#visualize of adword data\n",
        "#ppc_data.head()\n",
        "ppc_data['Cost'][:10].plot(kind='line',figsize=(10,5))"
      ],
      "metadata": {
        "colab": {
          "base_uri": "https://localhost:8080/",
          "height": 337
        },
        "id": "U4eaLmH0vCgk",
        "outputId": "f39c4329-5176-4597-aa8c-c375388b25e0"
      },
      "execution_count": 41,
      "outputs": [
        {
          "output_type": "execute_result",
          "data": {
            "text/plain": [
              "<matplotlib.axes._subplots.AxesSubplot at 0x7f9ad794fb10>"
            ]
          },
          "metadata": {},
          "execution_count": 41
        },
        {
          "output_type": "display_data",
          "data": {
            "text/plain": [
              "<Figure size 720x360 with 1 Axes>"
            ],
            "image/png": "[encoded data removed]"
          },
          "metadata": {
            "needs_background": "light"
          }
        }
      ]
    },
    {
      "cell_type": "code",
      "source": [
        "#scatter plot visulaization\n",
        "facebok_data.head()"
      ],
      "metadata": {
        "colab": {
          "base_uri": "https://localhost:8080/",
          "height": 444
        },
        "id": "G6xlmFLgwFZU",
        "outputId": "c5f60836-cd8a-4d6d-94e7-177f11fb3f43"
      },
      "execution_count": 36,
      "outputs": [
        {
          "output_type": "execute_result",
          "data": {
            "text/plain": [
              "   Unnamed: 0 Reporting starts Reporting ends Campaign name  Delivery  \\\n",
              "0           0       2014-02-21     2018-01-29     Campaign1         0   \n",
              "1           1       2015-12-04     2015-12-04     Campaign2  inactive   \n",
              "2           2       2015-10-21     2015-10-21     Campaign3  inactive   \n",
              "3           3       2015-10-20     2015-10-20     Campaign3  inactive   \n",
              "4           4       2015-10-20     2015-10-20     Campaign4  inactive   \n",
              "\n",
              "   Mobile app installs  Mobile app actions  Cost per mobile app install (GBP)  \\\n",
              "0              11451.0                 NaN                           1.275683   \n",
              "1                  NaN                 NaN                                NaN   \n",
              "2                  2.0                 NaN                           3.530000   \n",
              "3                  2.0                 NaN                          16.500000   \n",
              "4                  NaN                 NaN                                NaN   \n",
              "\n",
              "   Cost per mobile app action (GBP)  Desktop app installs  \\\n",
              "0                               NaN                   NaN   \n",
              "1                               NaN                   NaN   \n",
              "2                               NaN                   NaN   \n",
              "3                               NaN                   NaN   \n",
              "4                               NaN                   NaN   \n",
              "\n",
              "   Desktop app engagement  Cost per desktop app install (GBP)  \\\n",
              "0                     NaN                                 NaN   \n",
              "1                     NaN                                 NaN   \n",
              "2                     NaN                                 NaN   \n",
              "3                     NaN                                 NaN   \n",
              "4                     NaN                                 NaN   \n",
              "\n",
              "   Cost per desktop app engagement (GBP)  Post reactions  Post comments  \\\n",
              "0                                    NaN          1807.0           42.0   \n",
              "1                                    NaN             2.0            NaN   \n",
              "2                                    NaN             2.0            NaN   \n",
              "3                                    NaN            15.0            NaN   \n",
              "4                                    NaN             NaN            NaN   \n",
              "\n",
              "   Post shares  \n",
              "0        133.0  \n",
              "1          NaN  \n",
              "2          NaN  \n",
              "3          NaN  \n",
              "4          NaN  "
            ],
            "text/html": [
              "\n",
              "  <div id=\"df-54edd955-eb0b-4140-8cc5-a1a1755b5ea2\">\n",
              "    <div class=\"colab-df-container\">\n",
              "      <div>\n",
              "<style scoped>\n",
              "    .dataframe tbody tr th:only-of-type {\n",
              "        vertical-align: middle;\n",
              "    }\n",
              "\n",
              "    .dataframe tbody tr th {\n",
              "        vertical-align: top;\n",
              "    }\n",
              "\n",
              "    .dataframe thead th {\n",
              "        text-align: right;\n",
              "    }\n",
              "</style>\n",
              "<table border=\"1\" class=\"dataframe\">\n",
              "  <thead>\n",
              "    <tr style=\"text-align: right;\">\n",
              "      <th></th>\n",
              "      <th>Unnamed: 0</th>\n",
              "      <th>Reporting starts</th>\n",
              "      <th>Reporting ends</th>\n",
              "      <th>Campaign name</th>\n",
              "      <th>Delivery</th>\n",
              "      <th>Mobile app installs</th>\n",
              "      <th>Mobile app actions</th>\n",
              "      <th>Cost per mobile app install (GBP)</th>\n",
              "      <th>Cost per mobile app action (GBP)</th>\n",
              "      <th>Desktop app installs</th>\n",
              "      <th>Desktop app engagement</th>\n",
              "      <th>Cost per desktop app install (GBP)</th>\n",
              "      <th>Cost per desktop app engagement (GBP)</th>\n",
              "      <th>Post reactions</th>\n",
              "      <th>Post comments</th>\n",
              "      <th>Post shares</th>\n",
              "    </tr>\n",
              "  </thead>\n",
              "  <tbody>\n",
              "    <tr>\n",
              "      <th>0</th>\n",
              "      <td>0</td>\n",
              "      <td>2014-02-21</td>\n",
              "      <td>2018-01-29</td>\n",
              "      <td>Campaign1</td>\n",
              "      <td>0</td>\n",
              "      <td>11451.0</td>\n",
              "      <td>NaN</td>\n",
              "      <td>1.275683</td>\n",
              "      <td>NaN</td>\n",
              "      <td>NaN</td>\n",
              "      <td>NaN</td>\n",
              "      <td>NaN</td>\n",
              "      <td>NaN</td>\n",
              "      <td>1807.0</td>\n",
              "      <td>42.0</td>\n",
              "      <td>133.0</td>\n",
              "    </tr>\n",
              "    <tr>\n",
              "      <th>1</th>\n",
              "      <td>1</td>\n",
              "      <td>2015-12-04</td>\n",
              "      <td>2015-12-04</td>\n",
              "      <td>Campaign2</td>\n",
              "      <td>inactive</td>\n",
              "      <td>NaN</td>\n",
              "      <td>NaN</td>\n",
              "      <td>NaN</td>\n",
              "      <td>NaN</td>\n",
              "      <td>NaN</td>\n",
              "      <td>NaN</td>\n",
              "      <td>NaN</td>\n",
              "      <td>NaN</td>\n",
              "      <td>2.0</td>\n",
              "      <td>NaN</td>\n",
              "      <td>NaN</td>\n",
              "    </tr>\n",
              "    <tr>\n",
              "      <th>2</th>\n",
              "      <td>2</td>\n",
              "      <td>2015-10-21</td>\n",
              "      <td>2015-10-21</td>\n",
              "      <td>Campaign3</td>\n",
              "      <td>inactive</td>\n",
              "      <td>2.0</td>\n",
              "      <td>NaN</td>\n",
              "      <td>3.530000</td>\n",
              "      <td>NaN</td>\n",
              "      <td>NaN</td>\n",
              "      <td>NaN</td>\n",
              "      <td>NaN</td>\n",
              "      <td>NaN</td>\n",
              "      <td>2.0</td>\n",
              "      <td>NaN</td>\n",
              "      <td>NaN</td>\n",
              "    </tr>\n",
              "    <tr>\n",
              "      <th>3</th>\n",
              "      <td>3</td>\n",
              "      <td>2015-10-20</td>\n",
              "      <td>2015-10-20</td>\n",
              "      <td>Campaign3</td>\n",
              "      <td>inactive</td>\n",
              "      <td>2.0</td>\n",
              "      <td>NaN</td>\n",
              "      <td>16.500000</td>\n",
              "      <td>NaN</td>\n",
              "      <td>NaN</td>\n",
              "      <td>NaN</td>\n",
              "      <td>NaN</td>\n",
              "      <td>NaN</td>\n",
              "      <td>15.0</td>\n",
              "      <td>NaN</td>\n",
              "      <td>NaN</td>\n",
              "    </tr>\n",
              "    <tr>\n",
              "      <th>4</th>\n",
              "      <td>4</td>\n",
              "      <td>2015-10-20</td>\n",
              "      <td>2015-10-20</td>\n",
              "      <td>Campaign4</td>\n",
              "      <td>inactive</td>\n",
              "      <td>NaN</td>\n",
              "      <td>NaN</td>\n",
              "      <td>NaN</td>\n",
              "      <td>NaN</td>\n",
              "      <td>NaN</td>\n",
              "      <td>NaN</td>\n",
              "      <td>NaN</td>\n",
              "      <td>NaN</td>\n",
              "      <td>NaN</td>\n",
              "      <td>NaN</td>\n",
              "      <td>NaN</td>\n",
              "    </tr>\n",
              "  </tbody>\n",
              "</table>\n",
              "</div>\n",
              "      <button class=\"colab-df-convert\" onclick=\"convertToInteractive('df-54edd955-eb0b-4140-8cc5-a1a1755b5ea2')\"\n",
              "              title=\"Convert this dataframe to an interactive table.\"\n",
              "              style=\"display:none;\">\n",
              "        \n",
              "  <svg xmlns=\"http://www.w3.org/2000/svg\" height=\"24px\"viewBox=\"0 0 24 24\"\n",
              "       width=\"24px\">\n",
              "    <path d=\"M0 0h24v24H0V0z\" fill=\"none\"/>\n",
              "    <path d=\"M18.56 5.44l.94 2.06.94-2.06 2.06-.94-2.06-.94-.94-2.06-.94 2.06-2.06.94zm-11 1L8.5 8.5l.94-2.06 2.06-.94-2.06-.94L8.5 2.5l-.94 2.06-2.06.94zm10 10l.94 2.06.94-2.06 2.06-.94-2.06-.94-.94-2.06-.94 2.06-2.06.94z\"/><path d=\"M17.41 7.96l-1.37-1.37c-.4-.4-.92-.59-1.43-.59-.52 0-1.04.2-1.43.59L10.3 9.45l-7.72 7.72c-.78.78-.78 2.05 0 2.83L4 21.41c.39.39.9.59 1.41.59.51 0 1.02-.2 1.41-.59l7.78-7.78 2.81-2.81c.8-.78.8-2.07 0-2.86zM5.41 20L4 18.59l7.72-7.72 1.47 1.35L5.41 20z\"/>\n",
              "  </svg>\n",
              "      </button>\n",
              "      \n",
              "  <style>\n",
              "    .colab-df-container {\n",
              "      display:flex;\n",
              "      flex-wrap:wrap;\n",
              "      gap: 12px;\n",
              "    }\n",
              "\n",
              "    .colab-df-convert {\n",
              "      background-color: #E8F0FE;\n",
              "      border: none;\n",
              "      border-radius: 50%;\n",
              "      cursor: pointer;\n",
              "      display: none;\n",
              "      fill: #1967D2;\n",
              "      height: 32px;\n",
              "      padding: 0 0 0 0;\n",
              "      width: 32px;\n",
              "    }\n",
              "\n",
              "    .colab-df-convert:hover {\n",
              "      background-color: #E2EBFA;\n",
              "      box-shadow: 0px 1px 2px rgba(60, 64, 67, 0.3), 0px 1px 3px 1px rgba(60, 64, 67, 0.15);\n",
              "      fill: #174EA6;\n",
              "    }\n",
              "\n",
              "    [theme=dark] .colab-df-convert {\n",
              "      background-color: #3B4455;\n",
              "      fill: #D2E3FC;\n",
              "    }\n",
              "\n",
              "    [theme=dark] .colab-df-convert:hover {\n",
              "      background-color: #434B5C;\n",
              "      box-shadow: 0px 1px 3px 1px rgba(0, 0, 0, 0.15);\n",
              "      filter: drop-shadow(0px 1px 2px rgba(0, 0, 0, 0.3));\n",
              "      fill: #FFFFFF;\n",
              "    }\n",
              "  </style>\n",
              "\n",
              "      <script>\n",
              "        const buttonEl =\n",
              "          document.querySelector('#df-54edd955-eb0b-4140-8cc5-a1a1755b5ea2 button.colab-df-convert');\n",
              "        buttonEl.style.display =\n",
              "          google.colab.kernel.accessAllowed ? 'block' : 'none';\n",
              "\n",
              "        async function convertToInteractive(key) {\n",
              "          const element = document.querySelector('#df-54edd955-eb0b-4140-8cc5-a1a1755b5ea2');\n",
              "          const dataTable =\n",
              "            await google.colab.kernel.invokeFunction('convertToInteractive',\n",
              "                                                     [key], {});\n",
              "          if (!dataTable) return;\n",
              "\n",
              "          const docLinkHtml = 'Like what you see? Visit the ' +\n",
              "            '<a target=\"_blank\" href=https://colab.research.google.com/notebooks/data_table.ipynb>data table notebook</a>'\n",
              "            + ' to learn more about interactive tables.';\n",
              "          element.innerHTML = '';\n",
              "          dataTable['output_type'] = 'display_data';\n",
              "          await google.colab.output.renderOutput(dataTable, element);\n",
              "          const docLink = document.createElement('div');\n",
              "          docLink.innerHTML = docLinkHtml;\n",
              "          element.appendChild(docLink);\n",
              "        }\n",
              "      </script>\n",
              "    </div>\n",
              "  </div>\n",
              "  "
            ]
          },
          "metadata": {},
          "execution_count": 36
        }
      ]
    },
    {
      "cell_type": "code",
      "source": [
        "facebok_data.plot.scatter(x='Mobile app installs',y='Cost per mobile app install (GBP)',figsize=(10,5))"
      ],
      "metadata": {
        "colab": {
          "base_uri": "https://localhost:8080/",
          "height": 351
        },
        "id": "tAibxbsw4taZ",
        "outputId": "f7dcd9f6-c1ce-48f1-9afc-0442dcde5d13"
      },
      "execution_count": 45,
      "outputs": [
        {
          "output_type": "execute_result",
          "data": {
            "text/plain": [
              "<matplotlib.axes._subplots.AxesSubplot at 0x7f9ad727efd0>"
            ]
          },
          "metadata": {},
          "execution_count": 45
        },
        {
          "output_type": "display_data",
          "data": {
            "text/plain": [
              "<Figure size 720x360 with 1 Axes>"
            ],
            "image/png": "[encoded data removed]"
          },
          "metadata": {
            "needs_background": "light"
          }
        }
      ]
    },
    {
      "cell_type": "code",
      "source": [
        "#plot scatter plot on top of eachother\n",
        "fd=facebok_data.plot.scatter(x='Mobile app installs',y='Cost per mobile app install (GBP)',\n",
        "                            color='red',label='Group 1', alpha=.6,\n",
        "                             s=facebok_data['Cost per mobile app install (GBP)']*5,figsize=(10,5))\n",
        "facebok_data.plot.scatter(x='Mobile app installs',y='Cost per mobile app install (GBP)',color='Purple',\n",
        "label='Group 2', ax=fd, alpha=.5,figsize=(10,5))\n"
      ],
      "metadata": {
        "colab": {
          "base_uri": "https://localhost:8080/",
          "height": 351
        },
        "id": "0DSnB37S9Ups",
        "outputId": "744bc499-8a1a-4ee5-c747-3438fec24a2c"
      },
      "execution_count": 58,
      "outputs": [
        {
          "output_type": "execute_result",
          "data": {
            "text/plain": [
              "<matplotlib.axes._subplots.AxesSubplot at 0x7f9ad6f36b10>"
            ]
          },
          "metadata": {},
          "execution_count": 58
        },
        {
          "output_type": "display_data",
          "data": {
            "text/plain": [
              "<Figure size 720x360 with 1 Axes>"
            ],
            "image/png": "[encoded data removed]"
          },
          "metadata": {
            "needs_background": "light"
          }
        }
      ]
    }
  ]
}